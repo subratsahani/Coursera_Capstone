#Import all the dependencies

import requests
import numpy as np # library to handle data in a vectorized manner
import pandas as pd # library for data analsysis
pd.set_option('display.max_columns', None)
pd.set_option('display.max_rows', None)
​
!conda install -c conda-forge geopy --yes # uncomment this line if you haven't completed the Foursquare API lab
from geopy.geocoders import Nominatim # convert an address into latitude and longitude values
import json # library to handle JSON files
from pandas.io.json import json_normalize # tranform JSON file into a pandas dataframe
# Matplotlib and associated plotting modules
import matplotlib.cm as cm
import matplotlib.colors as colors
​
# import k-means from clustering stage
from sklearn.cluster import KMeans
​
!conda install -c conda-forge folium=0.5.0 --yes # uncomment this line if you haven't completed the Foursquare API lab
import folium # map rendering library
​
print('Libraries imported.')

#Read the wiki page
website_url = requests.get('https://en.wikipedia.org/wiki/List_of_postal_codes_of_Canada:_M').text
#Use BeautifulSoup
from bs4 import BeautifulSoup
soup = BeautifulSoup(website_url,'lxml')
#print(soup.prettify())
#Read  the table for 
My_table = soup.find('table',{'class':'wikitable sortable'})
#Read All the TR elements
tr_elements = My_table.findAll('tr')

#get all the data in to table_contents
table_contents = []   # store your table here
for tr in tr_elements:
    if tr_elements.index(tr) == 0 : 
        row_cells = [ th.getText().strip() for th in tr.find_all('th') if th.getText().strip() != '' ]  
    else : 
        row_cells = ([ tr.find('th').getText() ] if tr.find('th') else [] ) + [ td.getText().strip() for td in tr.find_all('td') if td.getText().strip() != '' ] 
    if len(row_cells) > 1 : 
        table_contents += [ row_cells ]

#table_contents

#Convert into Dataframe
df = pd.DataFrame(table_contents)
df.head()
df.shape

new_header = df.iloc[0] 
# take the rest of your data minus the header row
df = df[1:] 
# set the header row as the df header
df.columns = new_header 
# Lets see the 5 first rows of the new dataset
df.head()

#Clean the Dataframe df to merge duplicate Post Code to have comma separated Neighbourhood and remove Not assigned boroughs and add neighbourbood name same as borough name if it is Not Assigned

df.rename(columns={ df.columns[0]: "PostalCode" }, inplace = True)
df.head()

df.shape
# Drop a row by condition
df_halfCleaned = df[df.Borough != 'Not assigned'].reset_index(drop=True)

print(df.shape)
print(df_halfCleaned.shape)

df_halfCleaned ['Neighbourhood'] = np.where(df_halfCleaned['Neighbourhood'] == 'Not assigned', df_halfCleaned['Borough'], df_halfCleaned['Neighbourhood'])
#df_halfCleaned

df_halfCleaned.shape
df_halfCleaned_grouped = df_halfCleaned.groupby(['PostalCode','Borough']).Neighbourhood.agg([('Neighbourhood', ', '.join)]).reset_index()

df_halfCleaned_grouped.shape
#(103, 3)

#Read the Lat Long from the file provided

df_lat_long = pd.read_csv('http://cocl.us/Geospatial_data')
df_lat_long.head()

df_final = pd.DataFrame(df_halfCleaned_grouped.merge(df_lat_long, left_on='PostalCode', right_on='Postal Code'))

#Drop the redundant Column
df_final.drop("Postal Code",axis=1,inplace=True)
df_final.head()

#Get the geo location for Toronto Canada

GeoLocator = Nominatim(user_agent="Toronto-Explorer")
address = 'Toronto, Ontario Canada'
geolocator = Nominatim()
location = geolocator.geocode(address)
latitude = location.latitude
longitude = location.longitude
print('The geograpical coordinate of Toronto Canada are {}, {}.'.format(latitude, longitude))

# create map of Toronto using latitude and longitude values
map_toronto = folium.Map(location=[latitude, longitude], zoom_start=11)

# add markers to map
for lat, lng, borough, neighborhood in zip(df_final['Latitude'], df_final['Longitude'], df_final['Borough'], df_final['Neighbourhood']):
    label = '{}, {}'.format(neighborhood, borough)
    label = folium.Popup(label, parse_html=True)
    folium.CircleMarker(
        [lat, lng],
        radius=4,
        popup=label,
        color='blue',
        fill=True,
        fill_color='#87cefa',
        fill_opacity=0.5,
        parse_html=False).add_to(map_toronto)
        
  map_toronto   
